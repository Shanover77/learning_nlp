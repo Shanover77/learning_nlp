{
 "cells": [
  {
   "cell_type": "code",
   "execution_count": 27,
   "id": "663f5652",
   "metadata": {},
   "outputs": [],
   "source": [
    "# NLP Class2 : NLTK\n",
    "\n",
    "import nltk\n",
    "# nltk.download('all')"
   ]
  },
  {
   "cell_type": "code",
   "execution_count": 28,
   "id": "e48cec0d",
   "metadata": {},
   "outputs": [],
   "source": [
    "# Experimental toggle: Lowercase the input string\n",
    "\n",
    "def toLower(str):\n",
    "    return str.lower()\n",
    "\n",
    "def lowerList(list):\n",
    "    return [x.lower() for x in list]"
   ]
  },
  {
   "cell_type": "code",
   "execution_count": 29,
   "id": "b79128d9",
   "metadata": {},
   "outputs": [
    {
     "name": "stdout",
     "output_type": "stream",
     "text": [
      "Sentences: [\"Let's make this our sample paragraph.\", 'It even knows that the period is Mr. Jones is not the end.', 'Try it out!']\n",
      "Lower: [\"let's make this our sample paragraph.\", 'it even knows that the period is mr. jones is not the end.', 'try it out!']\n"
     ]
    }
   ],
   "source": [
    "# Demo of sentence tokenization\n",
    "\n",
    "sample = \"Let's make this our sample paragraph. It even knows that the period is Mr. Jones is not the end. Try it out!\"\n",
    "# sample = toLower(sample)\n",
    "\n",
    "from nltk.tokenize import sent_tokenize\n",
    "tokenize_sent = sent_tokenize(sample)\n",
    "\n",
    "print('Sentences:',tokenize_sent)\n",
    "print('Lower:', lowerList(tokenize_sent))"
   ]
  },
  {
   "cell_type": "code",
   "execution_count": 30,
   "id": "d515acc8",
   "metadata": {},
   "outputs": [
    {
     "name": "stdout",
     "output_type": "stream",
     "text": [
      "Words:  ['Let', \"'s\", 'make', 'this', 'our', 'sample', 'paragraph', '.', 'It', 'even', 'knows', 'that', 'the', 'period', 'is', 'Mr.', 'Jones', 'is', 'not', 'the', 'end', '.', 'Try', 'it', 'out', '!']\n"
     ]
    }
   ],
   "source": [
    "# Demo of worod tokenization\n",
    "\n",
    "from nltk.tokenize import word_tokenize\n",
    "tokenize_words = word_tokenize(sample)\n",
    "\n",
    "print('Words: ' , tokenize_words)"
   ]
  },
  {
   "cell_type": "code",
   "execution_count": 33,
   "id": "6028ff13",
   "metadata": {},
   "outputs": [
    {
     "data": {
      "text/plain": [
       "'highjump'"
      ]
     },
     "execution_count": 33,
     "metadata": {},
     "output_type": "execute_result"
    }
   ],
   "source": [
    "# Stemming: text normalization technique\n",
    "\n",
    "from nltk.stem import PorterStemmer\n",
    "\n",
    "porter = PorterStemmer()\n",
    "porter.stem(\"highjumping\")"
   ]
  },
  {
   "cell_type": "code",
   "execution_count": 41,
   "id": "d6a0a782",
   "metadata": {},
   "outputs": [
    {
     "name": "stdout",
     "output_type": "stream",
     "text": [
      "running\n",
      "run\n",
      "ate\n",
      "better\n"
     ]
    }
   ],
   "source": [
    "\"\"\"\" Lemmatization: The code above demonstrates lemmatization using the WordNetLemmatizer from the NLTK library. \n",
    "Lemmatization is the process of reducing a word to its base or dictionary form, known as the lemma. \n",
    "In this code, different words are lemmatized based on their parts of speech (POS) \"\"\"\n",
    "\n",
    "from nltk.stem import WordNetLemmatizer\n",
    "\n",
    "lem = WordNetLemmatizer()\n",
    "print(lem.lemmatize('running', pos = 'n'))\n",
    "print(lem.lemmatize('running', pos = 'v'))\n",
    "\n",
    "print(lem.lemmatize('ate', pos = 'n'))\n",
    "print(lem.lemmatize('better', pos = 'v'))"
   ]
  },
  {
   "cell_type": "code",
   "execution_count": null,
   "id": "a51edc68",
   "metadata": {},
   "outputs": [],
   "source": []
  }
 ],
 "metadata": {
  "kernelspec": {
   "display_name": "Python 3 (ipykernel)",
   "language": "python",
   "name": "python3"
  },
  "language_info": {
   "codemirror_mode": {
    "name": "ipython",
    "version": 3
   },
   "file_extension": ".py",
   "mimetype": "text/x-python",
   "name": "python",
   "nbconvert_exporter": "python",
   "pygments_lexer": "ipython3",
   "version": "3.9.12"
  }
 },
 "nbformat": 4,
 "nbformat_minor": 5
}
